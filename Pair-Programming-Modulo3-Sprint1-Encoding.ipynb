{
 "cells": [
  {
   "cell_type": "code",
   "execution_count": 1,
   "metadata": {},
   "outputs": [],
   "source": [
    "import pandas as pd\n",
    "from sklearn.preprocessing import LabelEncoder # para realizar el Label Encoding \n",
    "from sklearn.preprocessing import OneHotEncoder  # para realizar el One-Hot Encoding\n",
    "\n",
    "import warnings\n",
    "warnings.filterwarnings('ignore')\n",
    "pd.options.display.max_columns = None"
   ]
  },
  {
   "cell_type": "markdown",
   "metadata": {},
   "source": [
    "En el pair programming de hoy usaremos el set de datos que guardastéis en el pair programming de normalización y estandarización.\n",
    "\n",
    "Vuestro set de datos debería tener al menos una variable categórica, el objetivo del pair programming de hoy:\n",
    "\n",
    "Hacer una códificación de la/las variables categóricas que tengáis en vuestro set de datos.\n",
    "\n",
    "Recordad que lo primero que deberéis hacer es decidir su vuestras variables tienen o no orden, para que en función de esto uséis una aproximación u otra.\n",
    "\n"
   ]
  },
  {
   "cell_type": "code",
   "execution_count": 2,
   "metadata": {},
   "outputs": [
    {
     "data": {
      "text/html": [
       "<div>\n",
       "<style scoped>\n",
       "    .dataframe tbody tr th:only-of-type {\n",
       "        vertical-align: middle;\n",
       "    }\n",
       "\n",
       "    .dataframe tbody tr th {\n",
       "        vertical-align: top;\n",
       "    }\n",
       "\n",
       "    .dataframe thead th {\n",
       "        text-align: right;\n",
       "    }\n",
       "</style>\n",
       "<table border=\"1\" class=\"dataframe\">\n",
       "  <thead>\n",
       "    <tr style=\"text-align: right;\">\n",
       "      <th></th>\n",
       "      <th>case</th>\n",
       "      <th>site</th>\n",
       "      <th>Pop</th>\n",
       "      <th>sex</th>\n",
       "      <th>age</th>\n",
       "      <th>hdlngth</th>\n",
       "      <th>skullw</th>\n",
       "      <th>totlngth</th>\n",
       "      <th>taill</th>\n",
       "      <th>footlgth</th>\n",
       "      <th>earconch</th>\n",
       "      <th>eye</th>\n",
       "      <th>chest</th>\n",
       "      <th>belly</th>\n",
       "      <th>age_norm</th>\n",
       "      <th>age_log</th>\n",
       "      <th>age_raiz</th>\n",
       "      <th>age_Sklearn</th>\n",
       "      <th>belly_esta</th>\n",
       "    </tr>\n",
       "  </thead>\n",
       "  <tbody>\n",
       "    <tr>\n",
       "      <th>0</th>\n",
       "      <td>1</td>\n",
       "      <td>1</td>\n",
       "      <td>Vic</td>\n",
       "      <td>m</td>\n",
       "      <td>8.0</td>\n",
       "      <td>-0.028932</td>\n",
       "      <td>60.4</td>\n",
       "      <td>89.0</td>\n",
       "      <td>36.0</td>\n",
       "      <td>74.5</td>\n",
       "      <td>54.5</td>\n",
       "      <td>15.2</td>\n",
       "      <td>0.736833</td>\n",
       "      <td>0.150424</td>\n",
       "      <td>0.522837</td>\n",
       "      <td>2.079442</td>\n",
       "      <td>2.828427</td>\n",
       "      <td>0.625</td>\n",
       "      <td>1.235889</td>\n",
       "    </tr>\n",
       "    <tr>\n",
       "      <th>1</th>\n",
       "      <td>2</td>\n",
       "      <td>1</td>\n",
       "      <td>Vic</td>\n",
       "      <td>f</td>\n",
       "      <td>6.0</td>\n",
       "      <td>0.392875</td>\n",
       "      <td>57.6</td>\n",
       "      <td>91.5</td>\n",
       "      <td>36.5</td>\n",
       "      <td>72.5</td>\n",
       "      <td>51.2</td>\n",
       "      <td>16.0</td>\n",
       "      <td>1.473667</td>\n",
       "      <td>0.514241</td>\n",
       "      <td>0.272837</td>\n",
       "      <td>1.791759</td>\n",
       "      <td>2.449490</td>\n",
       "      <td>0.625</td>\n",
       "      <td>0.149699</td>\n",
       "    </tr>\n",
       "  </tbody>\n",
       "</table>\n",
       "</div>"
      ],
      "text/plain": [
       "   case  site  Pop sex  age   hdlngth  skullw  totlngth  taill  footlgth  \\\n",
       "0     1     1  Vic   m  8.0 -0.028932    60.4      89.0   36.0      74.5   \n",
       "1     2     1  Vic   f  6.0  0.392875    57.6      91.5   36.5      72.5   \n",
       "\n",
       "   earconch   eye     chest     belly  age_norm   age_log  age_raiz  \\\n",
       "0      54.5  15.2  0.736833  0.150424  0.522837  2.079442  2.828427   \n",
       "1      51.2  16.0  1.473667  0.514241  0.272837  1.791759  2.449490   \n",
       "\n",
       "   age_Sklearn  belly_esta  \n",
       "0        0.625    1.235889  \n",
       "1        0.625    0.149699  "
      ]
     },
     "execution_count": 2,
     "metadata": {},
     "output_type": "execute_result"
    }
   ],
   "source": [
    "df = pd.read_csv(\"Datos/possum_esta.csv\", index_col = 0).reset_index()\n",
    "df.head(2)"
   ]
  },
  {
   "cell_type": "code",
   "execution_count": 3,
   "metadata": {},
   "outputs": [
    {
     "data": {
      "text/plain": [
       "RangeIndex(start=0, stop=104, step=1)"
      ]
     },
     "execution_count": 3,
     "metadata": {},
     "output_type": "execute_result"
    }
   ],
   "source": [
    "df.index"
   ]
  },
  {
   "cell_type": "code",
   "execution_count": 4,
   "metadata": {},
   "outputs": [
    {
     "name": "stdout",
     "output_type": "stream",
     "text": [
      "<class 'pandas.core.frame.DataFrame'>\n",
      "RangeIndex: 104 entries, 0 to 103\n",
      "Data columns (total 19 columns):\n",
      " #   Column       Non-Null Count  Dtype  \n",
      "---  ------       --------------  -----  \n",
      " 0   case         104 non-null    int64  \n",
      " 1   site         104 non-null    int64  \n",
      " 2   Pop          104 non-null    object \n",
      " 3   sex          104 non-null    object \n",
      " 4   age          104 non-null    float64\n",
      " 5   hdlngth      103 non-null    float64\n",
      " 6   skullw       104 non-null    float64\n",
      " 7   totlngth     104 non-null    float64\n",
      " 8   taill        104 non-null    float64\n",
      " 9   footlgth     103 non-null    float64\n",
      " 10  earconch     104 non-null    float64\n",
      " 11  eye          104 non-null    float64\n",
      " 12  chest        103 non-null    float64\n",
      " 13  belly        103 non-null    float64\n",
      " 14  age_norm     104 non-null    float64\n",
      " 15  age_log      104 non-null    float64\n",
      " 16  age_raiz     104 non-null    float64\n",
      " 17  age_Sklearn  103 non-null    float64\n",
      " 18  belly_esta   104 non-null    float64\n",
      "dtypes: float64(15), int64(2), object(2)\n",
      "memory usage: 15.6+ KB\n"
     ]
    }
   ],
   "source": [
    "df.info()"
   ]
  },
  {
   "cell_type": "code",
   "execution_count": 5,
   "metadata": {},
   "outputs": [
    {
     "data": {
      "text/plain": [
       "array(['Vic', 'other'], dtype=object)"
      ]
     },
     "execution_count": 5,
     "metadata": {},
     "output_type": "execute_result"
    }
   ],
   "source": [
    "df.Pop.unique()"
   ]
  },
  {
   "cell_type": "code",
   "execution_count": 6,
   "metadata": {},
   "outputs": [
    {
     "data": {
      "text/plain": [
       "array(['m', 'f'], dtype=object)"
      ]
     },
     "execution_count": 6,
     "metadata": {},
     "output_type": "execute_result"
    }
   ],
   "source": [
    "df.sex.unique()"
   ]
  },
  {
   "cell_type": "code",
   "execution_count": 7,
   "metadata": {},
   "outputs": [
    {
     "data": {
      "text/plain": [
       "other    58\n",
       "Vic      46\n",
       "Name: Pop, dtype: int64"
      ]
     },
     "execution_count": 7,
     "metadata": {},
     "output_type": "execute_result"
    }
   ],
   "source": [
    "df.Pop.value_counts()"
   ]
  },
  {
   "cell_type": "code",
   "execution_count": 8,
   "metadata": {},
   "outputs": [],
   "source": [
    "df[\"site\"]=df[\"site\"].astype(\"category\")"
   ]
  },
  {
   "cell_type": "markdown",
   "metadata": {},
   "source": [
    "Nuestras variables cualitativas:\n",
    "\n",
    "Pop (population): o \"Vic\" (Victoria) o \"other\" (New South Wales or Queensland)\n",
    "\n",
    "Sex (gender): o \"m\" (male) o \"f\" (female)\n",
    "\n",
    "Site (lugar de atrapamiento): 1 al 7\n",
    "\n",
    "\n",
    "Consideramos \"sex\" como una variable cualitativa binaria , \"pop\" como una variable cualitativa nominal, consideramos \"site\" como variable cualitiva \"ordinaria\" porque creemos que las condiciones del lugar de atrapamiento pueden tener que ver en el desarrollo de la zarigüeya."
   ]
  },
  {
   "cell_type": "markdown",
   "metadata": {},
   "source": [
    "Para nuestras variables cualitativas que NO tienen orden podemos usar One_Hot Encoding o get_dummies"
   ]
  },
  {
   "cell_type": "code",
   "execution_count": 9,
   "metadata": {},
   "outputs": [
    {
     "data": {
      "text/html": [
       "<div>\n",
       "<style scoped>\n",
       "    .dataframe tbody tr th:only-of-type {\n",
       "        vertical-align: middle;\n",
       "    }\n",
       "\n",
       "    .dataframe tbody tr th {\n",
       "        vertical-align: top;\n",
       "    }\n",
       "\n",
       "    .dataframe thead th {\n",
       "        text-align: right;\n",
       "    }\n",
       "</style>\n",
       "<table border=\"1\" class=\"dataframe\">\n",
       "  <thead>\n",
       "    <tr style=\"text-align: right;\">\n",
       "      <th></th>\n",
       "      <th>Pop</th>\n",
       "      <th>sex</th>\n",
       "    </tr>\n",
       "  </thead>\n",
       "  <tbody>\n",
       "    <tr>\n",
       "      <th>0</th>\n",
       "      <td>Vic</td>\n",
       "      <td>m</td>\n",
       "    </tr>\n",
       "    <tr>\n",
       "      <th>1</th>\n",
       "      <td>Vic</td>\n",
       "      <td>f</td>\n",
       "    </tr>\n",
       "    <tr>\n",
       "      <th>2</th>\n",
       "      <td>Vic</td>\n",
       "      <td>f</td>\n",
       "    </tr>\n",
       "    <tr>\n",
       "      <th>3</th>\n",
       "      <td>Vic</td>\n",
       "      <td>f</td>\n",
       "    </tr>\n",
       "    <tr>\n",
       "      <th>4</th>\n",
       "      <td>Vic</td>\n",
       "      <td>f</td>\n",
       "    </tr>\n",
       "    <tr>\n",
       "      <th>5</th>\n",
       "      <td>Vic</td>\n",
       "      <td>f</td>\n",
       "    </tr>\n",
       "    <tr>\n",
       "      <th>6</th>\n",
       "      <td>Vic</td>\n",
       "      <td>m</td>\n",
       "    </tr>\n",
       "    <tr>\n",
       "      <th>7</th>\n",
       "      <td>Vic</td>\n",
       "      <td>f</td>\n",
       "    </tr>\n",
       "    <tr>\n",
       "      <th>8</th>\n",
       "      <td>Vic</td>\n",
       "      <td>f</td>\n",
       "    </tr>\n",
       "    <tr>\n",
       "      <th>9</th>\n",
       "      <td>Vic</td>\n",
       "      <td>f</td>\n",
       "    </tr>\n",
       "  </tbody>\n",
       "</table>\n",
       "</div>"
      ],
      "text/plain": [
       "   Pop sex\n",
       "0  Vic   m\n",
       "1  Vic   f\n",
       "2  Vic   f\n",
       "3  Vic   f\n",
       "4  Vic   f\n",
       "5  Vic   f\n",
       "6  Vic   m\n",
       "7  Vic   f\n",
       "8  Vic   f\n",
       "9  Vic   f"
      ]
     },
     "execution_count": 9,
     "metadata": {},
     "output_type": "execute_result"
    }
   ],
   "source": [
    "# nos creamos un dataframe con las variables categóricas\n",
    "\n",
    "df_possum_cat = df.select_dtypes(include = \"object\")\n",
    "df_possum_cat.head(10)"
   ]
  },
  {
   "cell_type": "markdown",
   "metadata": {},
   "source": [
    "One-Hot Encoding"
   ]
  },
  {
   "cell_type": "code",
   "execution_count": 10,
   "metadata": {},
   "outputs": [],
   "source": [
    "# Vamos a usar este método con la variable \"Pop\""
   ]
  },
  {
   "cell_type": "code",
   "execution_count": 11,
   "metadata": {},
   "outputs": [],
   "source": [
    "# iniciamos el método de OneHot Encoder\n",
    "oh = OneHotEncoder()"
   ]
  },
  {
   "cell_type": "code",
   "execution_count": null,
   "metadata": {},
   "outputs": [],
   "source": []
  },
  {
   "cell_type": "code",
   "execution_count": 12,
   "metadata": {},
   "outputs": [],
   "source": [
    "# hacemos la codificación de los datos para la variable dada \n",
    "transformados = oh.fit_transform(df_possum_cat[['Pop']])"
   ]
  },
  {
   "cell_type": "code",
   "execution_count": 13,
   "metadata": {},
   "outputs": [
    {
     "data": {
      "text/html": [
       "<div>\n",
       "<style scoped>\n",
       "    .dataframe tbody tr th:only-of-type {\n",
       "        vertical-align: middle;\n",
       "    }\n",
       "\n",
       "    .dataframe tbody tr th {\n",
       "        vertical-align: top;\n",
       "    }\n",
       "\n",
       "    .dataframe thead th {\n",
       "        text-align: right;\n",
       "    }\n",
       "</style>\n",
       "<table border=\"1\" class=\"dataframe\">\n",
       "  <thead>\n",
       "    <tr style=\"text-align: right;\">\n",
       "      <th></th>\n",
       "      <th>0</th>\n",
       "      <th>1</th>\n",
       "    </tr>\n",
       "  </thead>\n",
       "  <tbody>\n",
       "    <tr>\n",
       "      <th>0</th>\n",
       "      <td>1.0</td>\n",
       "      <td>0.0</td>\n",
       "    </tr>\n",
       "    <tr>\n",
       "      <th>1</th>\n",
       "      <td>1.0</td>\n",
       "      <td>0.0</td>\n",
       "    </tr>\n",
       "    <tr>\n",
       "      <th>2</th>\n",
       "      <td>1.0</td>\n",
       "      <td>0.0</td>\n",
       "    </tr>\n",
       "    <tr>\n",
       "      <th>3</th>\n",
       "      <td>1.0</td>\n",
       "      <td>0.0</td>\n",
       "    </tr>\n",
       "    <tr>\n",
       "      <th>4</th>\n",
       "      <td>1.0</td>\n",
       "      <td>0.0</td>\n",
       "    </tr>\n",
       "  </tbody>\n",
       "</table>\n",
       "</div>"
      ],
      "text/plain": [
       "     0    1\n",
       "0  1.0  0.0\n",
       "1  1.0  0.0\n",
       "2  1.0  0.0\n",
       "3  1.0  0.0\n",
       "4  1.0  0.0"
      ]
     },
     "execution_count": 13,
     "metadata": {},
     "output_type": "execute_result"
    }
   ],
   "source": [
    "# convertimos nuestro array con la codificación hecha en un dataframe, donde tendremos dos columnas, una para los \"Yes\" y otra para los \"No\"\n",
    "oh_df = pd.DataFrame(transformados.toarray())\n",
    "oh_df.head(5)"
   ]
  },
  {
   "cell_type": "code",
   "execution_count": 14,
   "metadata": {},
   "outputs": [
    {
     "data": {
      "text/plain": [
       "Index(['x0_Vic', 'x0_other'], dtype='object')"
      ]
     },
     "execution_count": 14,
     "metadata": {},
     "output_type": "execute_result"
    }
   ],
   "source": [
    "# el método get_feature_names nos va a dar el nombre de las columnas nuevas que se nos generarán\n",
    "oh_df.columns = oh.get_feature_names()\n",
    "oh_df.columns"
   ]
  },
  {
   "cell_type": "code",
   "execution_count": 15,
   "metadata": {},
   "outputs": [
    {
     "data": {
      "text/html": [
       "<div>\n",
       "<style scoped>\n",
       "    .dataframe tbody tr th:only-of-type {\n",
       "        vertical-align: middle;\n",
       "    }\n",
       "\n",
       "    .dataframe tbody tr th {\n",
       "        vertical-align: top;\n",
       "    }\n",
       "\n",
       "    .dataframe thead th {\n",
       "        text-align: right;\n",
       "    }\n",
       "</style>\n",
       "<table border=\"1\" class=\"dataframe\">\n",
       "  <thead>\n",
       "    <tr style=\"text-align: right;\">\n",
       "      <th></th>\n",
       "      <th>case</th>\n",
       "      <th>site</th>\n",
       "      <th>Pop</th>\n",
       "      <th>sex</th>\n",
       "      <th>age</th>\n",
       "      <th>hdlngth</th>\n",
       "      <th>skullw</th>\n",
       "      <th>totlngth</th>\n",
       "      <th>taill</th>\n",
       "      <th>footlgth</th>\n",
       "      <th>earconch</th>\n",
       "      <th>eye</th>\n",
       "      <th>chest</th>\n",
       "      <th>belly</th>\n",
       "      <th>age_norm</th>\n",
       "      <th>age_log</th>\n",
       "      <th>age_raiz</th>\n",
       "      <th>age_Sklearn</th>\n",
       "      <th>belly_esta</th>\n",
       "      <th>x0_Vic</th>\n",
       "      <th>x0_other</th>\n",
       "    </tr>\n",
       "  </thead>\n",
       "  <tbody>\n",
       "    <tr>\n",
       "      <th>0</th>\n",
       "      <td>1</td>\n",
       "      <td>1</td>\n",
       "      <td>Vic</td>\n",
       "      <td>m</td>\n",
       "      <td>8.0</td>\n",
       "      <td>-0.028932</td>\n",
       "      <td>60.4</td>\n",
       "      <td>89.0</td>\n",
       "      <td>36.0</td>\n",
       "      <td>74.5</td>\n",
       "      <td>54.5</td>\n",
       "      <td>15.2</td>\n",
       "      <td>0.736833</td>\n",
       "      <td>0.150424</td>\n",
       "      <td>0.522837</td>\n",
       "      <td>2.079442</td>\n",
       "      <td>2.828427</td>\n",
       "      <td>0.625</td>\n",
       "      <td>1.235889</td>\n",
       "      <td>1.0</td>\n",
       "      <td>0.0</td>\n",
       "    </tr>\n",
       "    <tr>\n",
       "      <th>1</th>\n",
       "      <td>2</td>\n",
       "      <td>1</td>\n",
       "      <td>Vic</td>\n",
       "      <td>f</td>\n",
       "      <td>6.0</td>\n",
       "      <td>0.392875</td>\n",
       "      <td>57.6</td>\n",
       "      <td>91.5</td>\n",
       "      <td>36.5</td>\n",
       "      <td>72.5</td>\n",
       "      <td>51.2</td>\n",
       "      <td>16.0</td>\n",
       "      <td>1.473667</td>\n",
       "      <td>0.514241</td>\n",
       "      <td>0.272837</td>\n",
       "      <td>1.791759</td>\n",
       "      <td>2.449490</td>\n",
       "      <td>0.625</td>\n",
       "      <td>0.149699</td>\n",
       "      <td>1.0</td>\n",
       "      <td>0.0</td>\n",
       "    </tr>\n",
       "    <tr>\n",
       "      <th>2</th>\n",
       "      <td>3</td>\n",
       "      <td>1</td>\n",
       "      <td>Vic</td>\n",
       "      <td>f</td>\n",
       "      <td>6.0</td>\n",
       "      <td>0.167912</td>\n",
       "      <td>60.0</td>\n",
       "      <td>95.5</td>\n",
       "      <td>39.0</td>\n",
       "      <td>75.4</td>\n",
       "      <td>51.9</td>\n",
       "      <td>15.5</td>\n",
       "      <td>0.491222</td>\n",
       "      <td>0.514241</td>\n",
       "      <td>0.272837</td>\n",
       "      <td>1.791759</td>\n",
       "      <td>2.449490</td>\n",
       "      <td>0.625</td>\n",
       "      <td>0.511762</td>\n",
       "      <td>1.0</td>\n",
       "      <td>0.0</td>\n",
       "    </tr>\n",
       "    <tr>\n",
       "      <th>3</th>\n",
       "      <td>4</td>\n",
       "      <td>1</td>\n",
       "      <td>Vic</td>\n",
       "      <td>f</td>\n",
       "      <td>6.0</td>\n",
       "      <td>-0.310136</td>\n",
       "      <td>57.1</td>\n",
       "      <td>92.0</td>\n",
       "      <td>38.0</td>\n",
       "      <td>76.1</td>\n",
       "      <td>52.2</td>\n",
       "      <td>15.2</td>\n",
       "      <td>0.736833</td>\n",
       "      <td>0.150424</td>\n",
       "      <td>0.272837</td>\n",
       "      <td>1.791759</td>\n",
       "      <td>2.449490</td>\n",
       "      <td>0.125</td>\n",
       "      <td>0.511762</td>\n",
       "      <td>1.0</td>\n",
       "      <td>0.0</td>\n",
       "    </tr>\n",
       "    <tr>\n",
       "      <th>4</th>\n",
       "      <td>5</td>\n",
       "      <td>1</td>\n",
       "      <td>Vic</td>\n",
       "      <td>f</td>\n",
       "      <td>2.0</td>\n",
       "      <td>0.139791</td>\n",
       "      <td>56.3</td>\n",
       "      <td>85.5</td>\n",
       "      <td>36.0</td>\n",
       "      <td>71.0</td>\n",
       "      <td>53.2</td>\n",
       "      <td>15.1</td>\n",
       "      <td>1.473667</td>\n",
       "      <td>-0.213392</td>\n",
       "      <td>-0.227163</td>\n",
       "      <td>0.693147</td>\n",
       "      <td>1.414214</td>\n",
       "      <td>0.000</td>\n",
       "      <td>0.149699</td>\n",
       "      <td>1.0</td>\n",
       "      <td>0.0</td>\n",
       "    </tr>\n",
       "  </tbody>\n",
       "</table>\n",
       "</div>"
      ],
      "text/plain": [
       "   case site  Pop sex  age   hdlngth  skullw  totlngth  taill  footlgth  \\\n",
       "0     1    1  Vic   m  8.0 -0.028932    60.4      89.0   36.0      74.5   \n",
       "1     2    1  Vic   f  6.0  0.392875    57.6      91.5   36.5      72.5   \n",
       "2     3    1  Vic   f  6.0  0.167912    60.0      95.5   39.0      75.4   \n",
       "3     4    1  Vic   f  6.0 -0.310136    57.1      92.0   38.0      76.1   \n",
       "4     5    1  Vic   f  2.0  0.139791    56.3      85.5   36.0      71.0   \n",
       "\n",
       "   earconch   eye     chest     belly  age_norm   age_log  age_raiz  \\\n",
       "0      54.5  15.2  0.736833  0.150424  0.522837  2.079442  2.828427   \n",
       "1      51.2  16.0  1.473667  0.514241  0.272837  1.791759  2.449490   \n",
       "2      51.9  15.5  0.491222  0.514241  0.272837  1.791759  2.449490   \n",
       "3      52.2  15.2  0.736833  0.150424  0.272837  1.791759  2.449490   \n",
       "4      53.2  15.1  1.473667 -0.213392 -0.227163  0.693147  1.414214   \n",
       "\n",
       "   age_Sklearn  belly_esta  x0_Vic  x0_other  \n",
       "0        0.625    1.235889     1.0       0.0  \n",
       "1        0.625    0.149699     1.0       0.0  \n",
       "2        0.625    0.511762     1.0       0.0  \n",
       "3        0.125    0.511762     1.0       0.0  \n",
       "4        0.000    0.149699     1.0       0.0  "
      ]
     },
     "execution_count": 15,
     "metadata": {},
     "output_type": "execute_result"
    }
   ],
   "source": [
    "# concatenamos el dataframe original con el dataframe que acabamos de crear\n",
    "get_hot = pd.concat([df,oh_df],axis=1)\n",
    "get_hot.head()"
   ]
  },
  {
   "cell_type": "markdown",
   "metadata": {},
   "source": [
    "get_dummies"
   ]
  },
  {
   "cell_type": "code",
   "execution_count": 16,
   "metadata": {},
   "outputs": [],
   "source": [
    "# Lo usaremos sobre la variable sex"
   ]
  },
  {
   "cell_type": "code",
   "execution_count": 17,
   "metadata": {},
   "outputs": [
    {
     "data": {
      "text/html": [
       "<div>\n",
       "<style scoped>\n",
       "    .dataframe tbody tr th:only-of-type {\n",
       "        vertical-align: middle;\n",
       "    }\n",
       "\n",
       "    .dataframe tbody tr th {\n",
       "        vertical-align: top;\n",
       "    }\n",
       "\n",
       "    .dataframe thead th {\n",
       "        text-align: right;\n",
       "    }\n",
       "</style>\n",
       "<table border=\"1\" class=\"dataframe\">\n",
       "  <thead>\n",
       "    <tr style=\"text-align: right;\">\n",
       "      <th></th>\n",
       "      <th>sex_f</th>\n",
       "      <th>sex_m</th>\n",
       "    </tr>\n",
       "  </thead>\n",
       "  <tbody>\n",
       "    <tr>\n",
       "      <th>0</th>\n",
       "      <td>0</td>\n",
       "      <td>1</td>\n",
       "    </tr>\n",
       "    <tr>\n",
       "      <th>1</th>\n",
       "      <td>1</td>\n",
       "      <td>0</td>\n",
       "    </tr>\n",
       "  </tbody>\n",
       "</table>\n",
       "</div>"
      ],
      "text/plain": [
       "   sex_f  sex_m\n",
       "0      0      1\n",
       "1      1      0"
      ]
     },
     "execution_count": 17,
     "metadata": {},
     "output_type": "execute_result"
    }
   ],
   "source": [
    "dummies = pd.get_dummies(df_possum_cat[\"sex\"], prefix_sep = \"_\", prefix = \"sex\", dtype = int)\n",
    "dummies.head(2)"
   ]
  },
  {
   "cell_type": "code",
   "execution_count": 18,
   "metadata": {},
   "outputs": [
    {
     "data": {
      "text/html": [
       "<div>\n",
       "<style scoped>\n",
       "    .dataframe tbody tr th:only-of-type {\n",
       "        vertical-align: middle;\n",
       "    }\n",
       "\n",
       "    .dataframe tbody tr th {\n",
       "        vertical-align: top;\n",
       "    }\n",
       "\n",
       "    .dataframe thead th {\n",
       "        text-align: right;\n",
       "    }\n",
       "</style>\n",
       "<table border=\"1\" class=\"dataframe\">\n",
       "  <thead>\n",
       "    <tr style=\"text-align: right;\">\n",
       "      <th></th>\n",
       "      <th>case</th>\n",
       "      <th>site</th>\n",
       "      <th>Pop</th>\n",
       "      <th>sex</th>\n",
       "      <th>age</th>\n",
       "      <th>hdlngth</th>\n",
       "      <th>skullw</th>\n",
       "      <th>totlngth</th>\n",
       "      <th>taill</th>\n",
       "      <th>footlgth</th>\n",
       "      <th>earconch</th>\n",
       "      <th>eye</th>\n",
       "      <th>chest</th>\n",
       "      <th>belly</th>\n",
       "      <th>age_norm</th>\n",
       "      <th>age_log</th>\n",
       "      <th>age_raiz</th>\n",
       "      <th>age_Sklearn</th>\n",
       "      <th>belly_esta</th>\n",
       "      <th>x0_Vic</th>\n",
       "      <th>x0_other</th>\n",
       "      <th>sex_f</th>\n",
       "      <th>sex_m</th>\n",
       "    </tr>\n",
       "  </thead>\n",
       "  <tbody>\n",
       "    <tr>\n",
       "      <th>0</th>\n",
       "      <td>1</td>\n",
       "      <td>1</td>\n",
       "      <td>Vic</td>\n",
       "      <td>m</td>\n",
       "      <td>8.0</td>\n",
       "      <td>-0.028932</td>\n",
       "      <td>60.4</td>\n",
       "      <td>89.0</td>\n",
       "      <td>36.0</td>\n",
       "      <td>74.5</td>\n",
       "      <td>54.5</td>\n",
       "      <td>15.2</td>\n",
       "      <td>0.736833</td>\n",
       "      <td>0.150424</td>\n",
       "      <td>0.522837</td>\n",
       "      <td>2.079442</td>\n",
       "      <td>2.828427</td>\n",
       "      <td>0.625</td>\n",
       "      <td>1.235889</td>\n",
       "      <td>1.0</td>\n",
       "      <td>0.0</td>\n",
       "      <td>0</td>\n",
       "      <td>1</td>\n",
       "    </tr>\n",
       "    <tr>\n",
       "      <th>1</th>\n",
       "      <td>2</td>\n",
       "      <td>1</td>\n",
       "      <td>Vic</td>\n",
       "      <td>f</td>\n",
       "      <td>6.0</td>\n",
       "      <td>0.392875</td>\n",
       "      <td>57.6</td>\n",
       "      <td>91.5</td>\n",
       "      <td>36.5</td>\n",
       "      <td>72.5</td>\n",
       "      <td>51.2</td>\n",
       "      <td>16.0</td>\n",
       "      <td>1.473667</td>\n",
       "      <td>0.514241</td>\n",
       "      <td>0.272837</td>\n",
       "      <td>1.791759</td>\n",
       "      <td>2.449490</td>\n",
       "      <td>0.625</td>\n",
       "      <td>0.149699</td>\n",
       "      <td>1.0</td>\n",
       "      <td>0.0</td>\n",
       "      <td>1</td>\n",
       "      <td>0</td>\n",
       "    </tr>\n",
       "  </tbody>\n",
       "</table>\n",
       "</div>"
      ],
      "text/plain": [
       "   case site  Pop sex  age   hdlngth  skullw  totlngth  taill  footlgth  \\\n",
       "0     1    1  Vic   m  8.0 -0.028932    60.4      89.0   36.0      74.5   \n",
       "1     2    1  Vic   f  6.0  0.392875    57.6      91.5   36.5      72.5   \n",
       "\n",
       "   earconch   eye     chest     belly  age_norm   age_log  age_raiz  \\\n",
       "0      54.5  15.2  0.736833  0.150424  0.522837  2.079442  2.828427   \n",
       "1      51.2  16.0  1.473667  0.514241  0.272837  1.791759  2.449490   \n",
       "\n",
       "   age_Sklearn  belly_esta  x0_Vic  x0_other  sex_f  sex_m  \n",
       "0        0.625    1.235889     1.0       0.0      0      1  \n",
       "1        0.625    0.149699     1.0       0.0      1      0  "
      ]
     },
     "execution_count": 18,
     "metadata": {},
     "output_type": "execute_result"
    }
   ],
   "source": [
    "df_final = pd.concat([get_hot, dummies], axis = 1)\n",
    "df_final.head(2)"
   ]
  },
  {
   "cell_type": "markdown",
   "metadata": {},
   "source": [
    "Guardad el dataframe, donde deberíais tener las variables estadandarizas, normalizadas y codificadas en un csv para usarlo en el próximo pairprogramming"
   ]
  },
  {
   "cell_type": "code",
   "execution_count": 19,
   "metadata": {},
   "outputs": [],
   "source": [
    "df_final.to_csv(\"Datos/possum_completo.csv\")"
   ]
  }
 ],
 "metadata": {
  "kernelspec": {
   "display_name": "Python 3.9.7 ('base')",
   "language": "python",
   "name": "python3"
  },
  "language_info": {
   "codemirror_mode": {
    "name": "ipython",
    "version": 3
   },
   "file_extension": ".py",
   "mimetype": "text/x-python",
   "name": "python",
   "nbconvert_exporter": "python",
   "pygments_lexer": "ipython3",
   "version": "3.9.7"
  },
  "orig_nbformat": 4,
  "vscode": {
   "interpreter": {
    "hash": "ef996a58dd4038b19127a5b342ff558a720418179ddf7c29df6339888c2ae8ac"
   }
  }
 },
 "nbformat": 4,
 "nbformat_minor": 2
}
