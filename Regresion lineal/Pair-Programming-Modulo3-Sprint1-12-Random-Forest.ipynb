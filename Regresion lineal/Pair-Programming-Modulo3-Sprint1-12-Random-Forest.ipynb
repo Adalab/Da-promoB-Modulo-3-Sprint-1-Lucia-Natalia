{
  "cells": [
    {
      "cell_type": "markdown",
      "metadata": {
        "id": "K3uLd-II0F4D"
      },
      "source": [
        "Ajustar el modelo a un Random Forest\n",
        "\n",
        "Extraer las métricas\n",
        "\n",
        "Debatid entre vosotras que modelo es mejor y por qué (basándose en las métricas)"
      ]
    },
    {
      "cell_type": "code",
      "execution_count": 1,
      "metadata": {
        "id": "N9DUlbT52gSU"
      },
      "outputs": [],
      "source": [
        "# Tratamiento de datos\n",
        "# ------------------------------------------------------------------------------\n",
        "import numpy as np\n",
        "import pandas as pd\n",
        "\n",
        "# Gráficos\n",
        "# ------------------------------------------------------------------------------\n",
        "import matplotlib.pyplot as plt\n",
        "import seaborn as sns\n",
        "\n",
        "# Modelado y evaluación\n",
        "# ------------------------------------------------------------------------------\n",
        "from sklearn.model_selection import train_test_split\n",
        "from sklearn.ensemble import RandomForestRegressor\n",
        "from sklearn import tree\n",
        "from sklearn.metrics import r2_score, mean_squared_error, mean_absolute_error\n",
        "from sklearn.model_selection import GridSearchCV\n",
        "\n",
        "# Barra de progreso de un proceso\n",
        "# ------------------------------------------------------------------------------\n",
        "from tqdm import tqdm\n",
        "\n",
        "# Configuración warnings\n",
        "# ------------------------------------------------------------------------------\n",
        "import warnings\n",
        "warnings.filterwarnings('once')"
      ]
    },
    {
      "cell_type": "code",
      "execution_count": 2,
      "metadata": {
        "colab": {
          "base_uri": "https://localhost:8080/",
          "height": 75
        },
        "id": "dnSgb8Dq59Xq",
        "outputId": "6851cde9-9c1d-4173-b6cd-1e0d78cf8a63"
      },
      "outputs": [],
      "source": [
        "# from google.colab import files \n",
        "\n",
        "\n",
        "# # uploaded = files.upload() "
      ]
    },
    {
      "cell_type": "code",
      "execution_count": 3,
      "metadata": {
        "colab": {
          "base_uri": "https://localhost:8080/",
          "height": 300
        },
        "id": "gnfROGvC6Nvo",
        "outputId": "3b0a0ca3-9304-4b37-da10-abed928babcc"
      },
      "outputs": [],
      "source": [
        "# import pandas as pd \n",
        "# import io \n",
        "\n",
        "# df = pd.read_csv(io.BytesIO(uploaded['possum_completo.csv']), index_col = 0) \n",
        "# df.head() "
      ]
    },
    {
      "cell_type": "code",
      "execution_count": 4,
      "metadata": {},
      "outputs": [
        {
          "data": {
            "text/html": [
              "<div>\n",
              "<style scoped>\n",
              "    .dataframe tbody tr th:only-of-type {\n",
              "        vertical-align: middle;\n",
              "    }\n",
              "\n",
              "    .dataframe tbody tr th {\n",
              "        vertical-align: top;\n",
              "    }\n",
              "\n",
              "    .dataframe thead th {\n",
              "        text-align: right;\n",
              "    }\n",
              "</style>\n",
              "<table border=\"1\" class=\"dataframe\">\n",
              "  <thead>\n",
              "    <tr style=\"text-align: right;\">\n",
              "      <th></th>\n",
              "      <th>age</th>\n",
              "      <th>hdlngth</th>\n",
              "      <th>skullw</th>\n",
              "      <th>totlngth</th>\n",
              "      <th>taill</th>\n",
              "      <th>footlgth</th>\n",
              "      <th>earconch</th>\n",
              "      <th>eye</th>\n",
              "      <th>chest</th>\n",
              "      <th>belly</th>\n",
              "      <th>...</th>\n",
              "      <th>x0_other</th>\n",
              "      <th>sex_f</th>\n",
              "      <th>sex_m</th>\n",
              "      <th>site_1</th>\n",
              "      <th>site_2</th>\n",
              "      <th>site_3</th>\n",
              "      <th>site_4</th>\n",
              "      <th>site_5</th>\n",
              "      <th>site_6</th>\n",
              "      <th>site_7</th>\n",
              "    </tr>\n",
              "  </thead>\n",
              "  <tbody>\n",
              "    <tr>\n",
              "      <th>0</th>\n",
              "      <td>2.218955</td>\n",
              "      <td>94.1</td>\n",
              "      <td>1.134883</td>\n",
              "      <td>0.445603</td>\n",
              "      <td>-0.517732</td>\n",
              "      <td>1.231614</td>\n",
              "      <td>1.557431</td>\n",
              "      <td>0.147177</td>\n",
              "      <td>0.491222</td>\n",
              "      <td>1.241874</td>\n",
              "      <td>...</td>\n",
              "      <td>0.0</td>\n",
              "      <td>0</td>\n",
              "      <td>1</td>\n",
              "      <td>1</td>\n",
              "      <td>0</td>\n",
              "      <td>0</td>\n",
              "      <td>0</td>\n",
              "      <td>0</td>\n",
              "      <td>0</td>\n",
              "      <td>0</td>\n",
              "    </tr>\n",
              "    <tr>\n",
              "      <th>1</th>\n",
              "      <td>1.157937</td>\n",
              "      <td>92.5</td>\n",
              "      <td>0.231197</td>\n",
              "      <td>1.028384</td>\n",
              "      <td>-0.261331</td>\n",
              "      <td>0.810757</td>\n",
              "      <td>0.750501</td>\n",
              "      <td>0.912499</td>\n",
              "      <td>0.736833</td>\n",
              "      <td>0.150424</td>\n",
              "      <td>...</td>\n",
              "      <td>0.0</td>\n",
              "      <td>1</td>\n",
              "      <td>0</td>\n",
              "      <td>1</td>\n",
              "      <td>0</td>\n",
              "      <td>0</td>\n",
              "      <td>0</td>\n",
              "      <td>0</td>\n",
              "      <td>0</td>\n",
              "      <td>0</td>\n",
              "    </tr>\n",
              "    <tr>\n",
              "      <th>2</th>\n",
              "      <td>1.157937</td>\n",
              "      <td>94.0</td>\n",
              "      <td>1.005785</td>\n",
              "      <td>1.960834</td>\n",
              "      <td>1.020671</td>\n",
              "      <td>1.421000</td>\n",
              "      <td>0.921668</td>\n",
              "      <td>0.434173</td>\n",
              "      <td>1.473667</td>\n",
              "      <td>0.514241</td>\n",
              "      <td>...</td>\n",
              "      <td>0.0</td>\n",
              "      <td>1</td>\n",
              "      <td>0</td>\n",
              "      <td>1</td>\n",
              "      <td>0</td>\n",
              "      <td>0</td>\n",
              "      <td>0</td>\n",
              "      <td>0</td>\n",
              "      <td>0</td>\n",
              "      <td>0</td>\n",
              "    </tr>\n",
              "    <tr>\n",
              "      <th>3</th>\n",
              "      <td>1.157937</td>\n",
              "      <td>93.2</td>\n",
              "      <td>0.069825</td>\n",
              "      <td>1.144941</td>\n",
              "      <td>0.507870</td>\n",
              "      <td>1.568300</td>\n",
              "      <td>0.995025</td>\n",
              "      <td>0.147177</td>\n",
              "      <td>0.491222</td>\n",
              "      <td>0.514241</td>\n",
              "      <td>...</td>\n",
              "      <td>0.0</td>\n",
              "      <td>1</td>\n",
              "      <td>0</td>\n",
              "      <td>1</td>\n",
              "      <td>0</td>\n",
              "      <td>0</td>\n",
              "      <td>0</td>\n",
              "      <td>0</td>\n",
              "      <td>0</td>\n",
              "      <td>0</td>\n",
              "    </tr>\n",
              "    <tr>\n",
              "      <th>4</th>\n",
              "      <td>-0.964098</td>\n",
              "      <td>91.5</td>\n",
              "      <td>-0.188371</td>\n",
              "      <td>-0.370290</td>\n",
              "      <td>-0.517732</td>\n",
              "      <td>0.495114</td>\n",
              "      <td>1.239549</td>\n",
              "      <td>0.051512</td>\n",
              "      <td>0.736833</td>\n",
              "      <td>0.150424</td>\n",
              "      <td>...</td>\n",
              "      <td>0.0</td>\n",
              "      <td>1</td>\n",
              "      <td>0</td>\n",
              "      <td>1</td>\n",
              "      <td>0</td>\n",
              "      <td>0</td>\n",
              "      <td>0</td>\n",
              "      <td>0</td>\n",
              "      <td>0</td>\n",
              "      <td>0</td>\n",
              "    </tr>\n",
              "    <tr>\n",
              "      <th>...</th>\n",
              "      <td>...</td>\n",
              "      <td>...</td>\n",
              "      <td>...</td>\n",
              "      <td>...</td>\n",
              "      <td>...</td>\n",
              "      <td>...</td>\n",
              "      <td>...</td>\n",
              "      <td>...</td>\n",
              "      <td>...</td>\n",
              "      <td>...</td>\n",
              "      <td>...</td>\n",
              "      <td>...</td>\n",
              "      <td>...</td>\n",
              "      <td>...</td>\n",
              "      <td>...</td>\n",
              "      <td>...</td>\n",
              "      <td>...</td>\n",
              "      <td>...</td>\n",
              "      <td>...</td>\n",
              "      <td>...</td>\n",
              "      <td>...</td>\n",
              "    </tr>\n",
              "    <tr>\n",
              "      <th>99</th>\n",
              "      <td>-1.494606</td>\n",
              "      <td>89.5</td>\n",
              "      <td>-0.285195</td>\n",
              "      <td>-1.302740</td>\n",
              "      <td>-0.261331</td>\n",
              "      <td>-0.557029</td>\n",
              "      <td>-0.325405</td>\n",
              "      <td>-0.235484</td>\n",
              "      <td>-1.964889</td>\n",
              "      <td>-2.032475</td>\n",
              "      <td>...</td>\n",
              "      <td>1.0</td>\n",
              "      <td>0</td>\n",
              "      <td>1</td>\n",
              "      <td>0</td>\n",
              "      <td>0</td>\n",
              "      <td>0</td>\n",
              "      <td>0</td>\n",
              "      <td>0</td>\n",
              "      <td>0</td>\n",
              "      <td>1</td>\n",
              "    </tr>\n",
              "    <tr>\n",
              "      <th>100</th>\n",
              "      <td>-1.494606</td>\n",
              "      <td>88.6</td>\n",
              "      <td>-0.704763</td>\n",
              "      <td>-1.069627</td>\n",
              "      <td>1.020671</td>\n",
              "      <td>-0.893715</td>\n",
              "      <td>-0.031976</td>\n",
              "      <td>-1.000805</td>\n",
              "      <td>-0.982445</td>\n",
              "      <td>0.150424</td>\n",
              "      <td>...</td>\n",
              "      <td>1.0</td>\n",
              "      <td>0</td>\n",
              "      <td>1</td>\n",
              "      <td>0</td>\n",
              "      <td>0</td>\n",
              "      <td>0</td>\n",
              "      <td>0</td>\n",
              "      <td>0</td>\n",
              "      <td>0</td>\n",
              "      <td>1</td>\n",
              "    </tr>\n",
              "    <tr>\n",
              "      <th>101</th>\n",
              "      <td>1.157937</td>\n",
              "      <td>92.4</td>\n",
              "      <td>-0.607940</td>\n",
              "      <td>0.445603</td>\n",
              "      <td>0.507870</td>\n",
              "      <td>-1.083100</td>\n",
              "      <td>-0.667739</td>\n",
              "      <td>-1.957457</td>\n",
              "      <td>-0.982445</td>\n",
              "      <td>-0.941025</td>\n",
              "      <td>...</td>\n",
              "      <td>1.0</td>\n",
              "      <td>1</td>\n",
              "      <td>0</td>\n",
              "      <td>0</td>\n",
              "      <td>0</td>\n",
              "      <td>0</td>\n",
              "      <td>0</td>\n",
              "      <td>0</td>\n",
              "      <td>0</td>\n",
              "      <td>1</td>\n",
              "    </tr>\n",
              "    <tr>\n",
              "      <th>102</th>\n",
              "      <td>0.096920</td>\n",
              "      <td>91.5</td>\n",
              "      <td>-0.543391</td>\n",
              "      <td>-1.069627</td>\n",
              "      <td>-0.261331</td>\n",
              "      <td>-1.209358</td>\n",
              "      <td>-0.545477</td>\n",
              "      <td>0.338508</td>\n",
              "      <td>-0.982445</td>\n",
              "      <td>-1.304842</td>\n",
              "      <td>...</td>\n",
              "      <td>1.0</td>\n",
              "      <td>0</td>\n",
              "      <td>1</td>\n",
              "      <td>0</td>\n",
              "      <td>0</td>\n",
              "      <td>0</td>\n",
              "      <td>0</td>\n",
              "      <td>0</td>\n",
              "      <td>0</td>\n",
              "      <td>1</td>\n",
              "    </tr>\n",
              "    <tr>\n",
              "      <th>103</th>\n",
              "      <td>-0.433589</td>\n",
              "      <td>93.6</td>\n",
              "      <td>0.973511</td>\n",
              "      <td>0.445603</td>\n",
              "      <td>1.533472</td>\n",
              "      <td>-0.220343</td>\n",
              "      <td>-0.521025</td>\n",
              "      <td>-0.235484</td>\n",
              "      <td>0.736833</td>\n",
              "      <td>0.332332</td>\n",
              "      <td>...</td>\n",
              "      <td>1.0</td>\n",
              "      <td>1</td>\n",
              "      <td>0</td>\n",
              "      <td>0</td>\n",
              "      <td>0</td>\n",
              "      <td>0</td>\n",
              "      <td>0</td>\n",
              "      <td>0</td>\n",
              "      <td>0</td>\n",
              "      <td>1</td>\n",
              "    </tr>\n",
              "  </tbody>\n",
              "</table>\n",
              "<p>104 rows × 21 columns</p>\n",
              "</div>"
            ],
            "text/plain": [
              "          age  hdlngth    skullw  totlngth     taill  footlgth  earconch  \\\n",
              "0    2.218955     94.1  1.134883  0.445603 -0.517732  1.231614  1.557431   \n",
              "1    1.157937     92.5  0.231197  1.028384 -0.261331  0.810757  0.750501   \n",
              "2    1.157937     94.0  1.005785  1.960834  1.020671  1.421000  0.921668   \n",
              "3    1.157937     93.2  0.069825  1.144941  0.507870  1.568300  0.995025   \n",
              "4   -0.964098     91.5 -0.188371 -0.370290 -0.517732  0.495114  1.239549   \n",
              "..        ...      ...       ...       ...       ...       ...       ...   \n",
              "99  -1.494606     89.5 -0.285195 -1.302740 -0.261331 -0.557029 -0.325405   \n",
              "100 -1.494606     88.6 -0.704763 -1.069627  1.020671 -0.893715 -0.031976   \n",
              "101  1.157937     92.4 -0.607940  0.445603  0.507870 -1.083100 -0.667739   \n",
              "102  0.096920     91.5 -0.543391 -1.069627 -0.261331 -1.209358 -0.545477   \n",
              "103 -0.433589     93.6  0.973511  0.445603  1.533472 -0.220343 -0.521025   \n",
              "\n",
              "          eye     chest     belly  ...  x0_other  sex_f  sex_m  site_1  \\\n",
              "0    0.147177  0.491222  1.241874  ...       0.0      0      1       1   \n",
              "1    0.912499  0.736833  0.150424  ...       0.0      1      0       1   \n",
              "2    0.434173  1.473667  0.514241  ...       0.0      1      0       1   \n",
              "3    0.147177  0.491222  0.514241  ...       0.0      1      0       1   \n",
              "4    0.051512  0.736833  0.150424  ...       0.0      1      0       1   \n",
              "..        ...       ...       ...  ...       ...    ...    ...     ...   \n",
              "99  -0.235484 -1.964889 -2.032475  ...       1.0      0      1       0   \n",
              "100 -1.000805 -0.982445  0.150424  ...       1.0      0      1       0   \n",
              "101 -1.957457 -0.982445 -0.941025  ...       1.0      1      0       0   \n",
              "102  0.338508 -0.982445 -1.304842  ...       1.0      0      1       0   \n",
              "103 -0.235484  0.736833  0.332332  ...       1.0      1      0       0   \n",
              "\n",
              "     site_2  site_3  site_4  site_5  site_6  site_7  \n",
              "0         0       0       0       0       0       0  \n",
              "1         0       0       0       0       0       0  \n",
              "2         0       0       0       0       0       0  \n",
              "3         0       0       0       0       0       0  \n",
              "4         0       0       0       0       0       0  \n",
              "..      ...     ...     ...     ...     ...     ...  \n",
              "99        0       0       0       0       0       1  \n",
              "100       0       0       0       0       0       1  \n",
              "101       0       0       0       0       0       1  \n",
              "102       0       0       0       0       0       1  \n",
              "103       0       0       0       0       0       1  \n",
              "\n",
              "[104 rows x 21 columns]"
            ]
          },
          "execution_count": 4,
          "metadata": {},
          "output_type": "execute_result"
        }
      ],
      "source": [
        "df = pd.read_csv(\"Datos/possum_completo.csv\", index_col =0)\n",
        "df"
      ]
    },
    {
      "cell_type": "code",
      "execution_count": 5,
      "metadata": {},
      "outputs": [],
      "source": [
        "X = df.drop([\"hdlngth\"],  axis = 1)\n",
        "y = df[\"hdlngth\"]"
      ]
    },
    {
      "cell_type": "code",
      "execution_count": 6,
      "metadata": {
        "id": "lmefogBE7alo"
      },
      "outputs": [],
      "source": [
        "x_train, x_test, y_train, y_test = train_test_split(X, y, test_size = 0.2, random_state = 42)"
      ]
    },
    {
      "cell_type": "code",
      "execution_count": 7,
      "metadata": {
        "id": "wamwjSvZ7S2g"
      },
      "outputs": [],
      "source": [
        "# recordamos que lo primero que hacíamos era crear un diccionario con los hiperparámetros que queríamos probar\n",
        "\n",
        "param = {\"max_depth\": [2,4, 6], # teniendo en cuenta que teníamos overfitting tendremos que reducir la profundidad del modelo, la nuestra anterior era de 17. Bajaremos mucho este valor ya que teníamos un overfitting muy claro\n",
        "        \"max_features\": [1,2,3,4],# calculamos en celdas anteriores, probaremos a hacer el modelo como una variable, 2, 3 y 4. Ponemos como límite el 4 ya que es el resultado de la raiz cuadrada. \n",
        "        # estos dos hiperparámetros son más difíciles de definir, pero usualmente se suelen elegir los siguientes valores\n",
        "        \"min_samples_split\": [5,15,50],\n",
        "        \"min_samples_leaf\": [10,25,50]} "
      ]
    },
    {
      "cell_type": "code",
      "execution_count": 8,
      "metadata": {
        "id": "_uORJ-2_78gR"
      },
      "outputs": [],
      "source": [
        "gs_rf = GridSearchCV(\n",
        "            estimator=RandomForestRegressor(), # tipo de modelo que queremos hacer\n",
        "            param_grid= param, # que hiperparámetros queremos que testee\n",
        "            cv=10, # crossvalidation que aprendimos en la lección de regresión lineal intro. \n",
        "            verbose=-1, # para que no nos printee ningún mensaje en pantalla\n",
        "            return_train_score = True, # para que nos devuelva el valor de las métricas de set de datos de entrenamiento\n",
        "            scoring=\"neg_mean_squared_error\") # la métrica que queremos que nos devuelva"
      ]
    },
    {
      "cell_type": "code",
      "execution_count": 9,
      "metadata": {
        "colab": {
          "base_uri": "https://localhost:8080/"
        },
        "id": "eCSgoPHJ6yMe",
        "outputId": "16341f01-052a-45ee-ef8a-332418bad6eb"
      },
      "outputs": [
        {
          "data": {
            "text/html": [
              "<style>#sk-container-id-1 {color: black;background-color: white;}#sk-container-id-1 pre{padding: 0;}#sk-container-id-1 div.sk-toggleable {background-color: white;}#sk-container-id-1 label.sk-toggleable__label {cursor: pointer;display: block;width: 100%;margin-bottom: 0;padding: 0.3em;box-sizing: border-box;text-align: center;}#sk-container-id-1 label.sk-toggleable__label-arrow:before {content: \"▸\";float: left;margin-right: 0.25em;color: #696969;}#sk-container-id-1 label.sk-toggleable__label-arrow:hover:before {color: black;}#sk-container-id-1 div.sk-estimator:hover label.sk-toggleable__label-arrow:before {color: black;}#sk-container-id-1 div.sk-toggleable__content {max-height: 0;max-width: 0;overflow: hidden;text-align: left;background-color: #f0f8ff;}#sk-container-id-1 div.sk-toggleable__content pre {margin: 0.2em;color: black;border-radius: 0.25em;background-color: #f0f8ff;}#sk-container-id-1 input.sk-toggleable__control:checked~div.sk-toggleable__content {max-height: 200px;max-width: 100%;overflow: auto;}#sk-container-id-1 input.sk-toggleable__control:checked~label.sk-toggleable__label-arrow:before {content: \"▾\";}#sk-container-id-1 div.sk-estimator input.sk-toggleable__control:checked~label.sk-toggleable__label {background-color: #d4ebff;}#sk-container-id-1 div.sk-label input.sk-toggleable__control:checked~label.sk-toggleable__label {background-color: #d4ebff;}#sk-container-id-1 input.sk-hidden--visually {border: 0;clip: rect(1px 1px 1px 1px);clip: rect(1px, 1px, 1px, 1px);height: 1px;margin: -1px;overflow: hidden;padding: 0;position: absolute;width: 1px;}#sk-container-id-1 div.sk-estimator {font-family: monospace;background-color: #f0f8ff;border: 1px dotted black;border-radius: 0.25em;box-sizing: border-box;margin-bottom: 0.5em;}#sk-container-id-1 div.sk-estimator:hover {background-color: #d4ebff;}#sk-container-id-1 div.sk-parallel-item::after {content: \"\";width: 100%;border-bottom: 1px solid gray;flex-grow: 1;}#sk-container-id-1 div.sk-label:hover label.sk-toggleable__label {background-color: #d4ebff;}#sk-container-id-1 div.sk-serial::before {content: \"\";position: absolute;border-left: 1px solid gray;box-sizing: border-box;top: 0;bottom: 0;left: 50%;z-index: 0;}#sk-container-id-1 div.sk-serial {display: flex;flex-direction: column;align-items: center;background-color: white;padding-right: 0.2em;padding-left: 0.2em;position: relative;}#sk-container-id-1 div.sk-item {position: relative;z-index: 1;}#sk-container-id-1 div.sk-parallel {display: flex;align-items: stretch;justify-content: center;background-color: white;position: relative;}#sk-container-id-1 div.sk-item::before, #sk-container-id-1 div.sk-parallel-item::before {content: \"\";position: absolute;border-left: 1px solid gray;box-sizing: border-box;top: 0;bottom: 0;left: 50%;z-index: -1;}#sk-container-id-1 div.sk-parallel-item {display: flex;flex-direction: column;z-index: 1;position: relative;background-color: white;}#sk-container-id-1 div.sk-parallel-item:first-child::after {align-self: flex-end;width: 50%;}#sk-container-id-1 div.sk-parallel-item:last-child::after {align-self: flex-start;width: 50%;}#sk-container-id-1 div.sk-parallel-item:only-child::after {width: 0;}#sk-container-id-1 div.sk-dashed-wrapped {border: 1px dashed gray;margin: 0 0.4em 0.5em 0.4em;box-sizing: border-box;padding-bottom: 0.4em;background-color: white;}#sk-container-id-1 div.sk-label label {font-family: monospace;font-weight: bold;display: inline-block;line-height: 1.2em;}#sk-container-id-1 div.sk-label-container {text-align: center;}#sk-container-id-1 div.sk-container {/* jupyter's `normalize.less` sets `[hidden] { display: none; }` but bootstrap.min.css set `[hidden] { display: none !important; }` so we also need the `!important` here to be able to override the default hidden behavior on the sphinx rendered scikit-learn.org. See: https://github.com/scikit-learn/scikit-learn/issues/21755 */display: inline-block !important;position: relative;}#sk-container-id-1 div.sk-text-repr-fallback {display: none;}</style><div id=\"sk-container-id-1\" class=\"sk-top-container\"><div class=\"sk-text-repr-fallback\"><pre>GridSearchCV(cv=10, estimator=RandomForestRegressor(),\n",
              "             param_grid={&#x27;max_depth&#x27;: [2, 4, 6], &#x27;max_features&#x27;: [1, 2, 3, 4],\n",
              "                         &#x27;min_samples_leaf&#x27;: [10, 25, 50],\n",
              "                         &#x27;min_samples_split&#x27;: [5, 15, 50]},\n",
              "             return_train_score=True, scoring=&#x27;neg_mean_squared_error&#x27;,\n",
              "             verbose=-1)</pre><b>In a Jupyter environment, please rerun this cell to show the HTML representation or trust the notebook. <br />On GitHub, the HTML representation is unable to render, please try loading this page with nbviewer.org.</b></div><div class=\"sk-container\" hidden><div class=\"sk-item sk-dashed-wrapped\"><div class=\"sk-label-container\"><div class=\"sk-label sk-toggleable\"><input class=\"sk-toggleable__control sk-hidden--visually\" id=\"sk-estimator-id-1\" type=\"checkbox\" ><label for=\"sk-estimator-id-1\" class=\"sk-toggleable__label sk-toggleable__label-arrow\">GridSearchCV</label><div class=\"sk-toggleable__content\"><pre>GridSearchCV(cv=10, estimator=RandomForestRegressor(),\n",
              "             param_grid={&#x27;max_depth&#x27;: [2, 4, 6], &#x27;max_features&#x27;: [1, 2, 3, 4],\n",
              "                         &#x27;min_samples_leaf&#x27;: [10, 25, 50],\n",
              "                         &#x27;min_samples_split&#x27;: [5, 15, 50]},\n",
              "             return_train_score=True, scoring=&#x27;neg_mean_squared_error&#x27;,\n",
              "             verbose=-1)</pre></div></div></div><div class=\"sk-parallel\"><div class=\"sk-parallel-item\"><div class=\"sk-item\"><div class=\"sk-label-container\"><div class=\"sk-label sk-toggleable\"><input class=\"sk-toggleable__control sk-hidden--visually\" id=\"sk-estimator-id-2\" type=\"checkbox\" ><label for=\"sk-estimator-id-2\" class=\"sk-toggleable__label sk-toggleable__label-arrow\">estimator: RandomForestRegressor</label><div class=\"sk-toggleable__content\"><pre>RandomForestRegressor()</pre></div></div></div><div class=\"sk-serial\"><div class=\"sk-item\"><div class=\"sk-estimator sk-toggleable\"><input class=\"sk-toggleable__control sk-hidden--visually\" id=\"sk-estimator-id-3\" type=\"checkbox\" ><label for=\"sk-estimator-id-3\" class=\"sk-toggleable__label sk-toggleable__label-arrow\">RandomForestRegressor</label><div class=\"sk-toggleable__content\"><pre>RandomForestRegressor()</pre></div></div></div></div></div></div></div></div></div></div>"
            ],
            "text/plain": [
              "GridSearchCV(cv=10, estimator=RandomForestRegressor(),\n",
              "             param_grid={'max_depth': [2, 4, 6], 'max_features': [1, 2, 3, 4],\n",
              "                         'min_samples_leaf': [10, 25, 50],\n",
              "                         'min_samples_split': [5, 15, 50]},\n",
              "             return_train_score=True, scoring='neg_mean_squared_error',\n",
              "             verbose=-1)"
            ]
          },
          "execution_count": 9,
          "metadata": {},
          "output_type": "execute_result"
        }
      ],
      "source": [
        "# ajustamos el modelo que acabamos de definir en el GridSearch\n",
        "# 🚨 Esta celda puede tardar en ejecutarse\n",
        "\n",
        "gs_rf.fit(x_train, y_train)"
      ]
    },
    {
      "cell_type": "code",
      "execution_count": 10,
      "metadata": {
        "colab": {
          "base_uri": "https://localhost:8080/"
        },
        "id": "Aezj-WvT8KuU",
        "outputId": "85b77bda-9ed2-47c1-ca73-547e4a8639b5"
      },
      "outputs": [
        {
          "data": {
            "text/html": [
              "<style>#sk-container-id-2 {color: black;background-color: white;}#sk-container-id-2 pre{padding: 0;}#sk-container-id-2 div.sk-toggleable {background-color: white;}#sk-container-id-2 label.sk-toggleable__label {cursor: pointer;display: block;width: 100%;margin-bottom: 0;padding: 0.3em;box-sizing: border-box;text-align: center;}#sk-container-id-2 label.sk-toggleable__label-arrow:before {content: \"▸\";float: left;margin-right: 0.25em;color: #696969;}#sk-container-id-2 label.sk-toggleable__label-arrow:hover:before {color: black;}#sk-container-id-2 div.sk-estimator:hover label.sk-toggleable__label-arrow:before {color: black;}#sk-container-id-2 div.sk-toggleable__content {max-height: 0;max-width: 0;overflow: hidden;text-align: left;background-color: #f0f8ff;}#sk-container-id-2 div.sk-toggleable__content pre {margin: 0.2em;color: black;border-radius: 0.25em;background-color: #f0f8ff;}#sk-container-id-2 input.sk-toggleable__control:checked~div.sk-toggleable__content {max-height: 200px;max-width: 100%;overflow: auto;}#sk-container-id-2 input.sk-toggleable__control:checked~label.sk-toggleable__label-arrow:before {content: \"▾\";}#sk-container-id-2 div.sk-estimator input.sk-toggleable__control:checked~label.sk-toggleable__label {background-color: #d4ebff;}#sk-container-id-2 div.sk-label input.sk-toggleable__control:checked~label.sk-toggleable__label {background-color: #d4ebff;}#sk-container-id-2 input.sk-hidden--visually {border: 0;clip: rect(1px 1px 1px 1px);clip: rect(1px, 1px, 1px, 1px);height: 1px;margin: -1px;overflow: hidden;padding: 0;position: absolute;width: 1px;}#sk-container-id-2 div.sk-estimator {font-family: monospace;background-color: #f0f8ff;border: 1px dotted black;border-radius: 0.25em;box-sizing: border-box;margin-bottom: 0.5em;}#sk-container-id-2 div.sk-estimator:hover {background-color: #d4ebff;}#sk-container-id-2 div.sk-parallel-item::after {content: \"\";width: 100%;border-bottom: 1px solid gray;flex-grow: 1;}#sk-container-id-2 div.sk-label:hover label.sk-toggleable__label {background-color: #d4ebff;}#sk-container-id-2 div.sk-serial::before {content: \"\";position: absolute;border-left: 1px solid gray;box-sizing: border-box;top: 0;bottom: 0;left: 50%;z-index: 0;}#sk-container-id-2 div.sk-serial {display: flex;flex-direction: column;align-items: center;background-color: white;padding-right: 0.2em;padding-left: 0.2em;position: relative;}#sk-container-id-2 div.sk-item {position: relative;z-index: 1;}#sk-container-id-2 div.sk-parallel {display: flex;align-items: stretch;justify-content: center;background-color: white;position: relative;}#sk-container-id-2 div.sk-item::before, #sk-container-id-2 div.sk-parallel-item::before {content: \"\";position: absolute;border-left: 1px solid gray;box-sizing: border-box;top: 0;bottom: 0;left: 50%;z-index: -1;}#sk-container-id-2 div.sk-parallel-item {display: flex;flex-direction: column;z-index: 1;position: relative;background-color: white;}#sk-container-id-2 div.sk-parallel-item:first-child::after {align-self: flex-end;width: 50%;}#sk-container-id-2 div.sk-parallel-item:last-child::after {align-self: flex-start;width: 50%;}#sk-container-id-2 div.sk-parallel-item:only-child::after {width: 0;}#sk-container-id-2 div.sk-dashed-wrapped {border: 1px dashed gray;margin: 0 0.4em 0.5em 0.4em;box-sizing: border-box;padding-bottom: 0.4em;background-color: white;}#sk-container-id-2 div.sk-label label {font-family: monospace;font-weight: bold;display: inline-block;line-height: 1.2em;}#sk-container-id-2 div.sk-label-container {text-align: center;}#sk-container-id-2 div.sk-container {/* jupyter's `normalize.less` sets `[hidden] { display: none; }` but bootstrap.min.css set `[hidden] { display: none !important; }` so we also need the `!important` here to be able to override the default hidden behavior on the sphinx rendered scikit-learn.org. See: https://github.com/scikit-learn/scikit-learn/issues/21755 */display: inline-block !important;position: relative;}#sk-container-id-2 div.sk-text-repr-fallback {display: none;}</style><div id=\"sk-container-id-2\" class=\"sk-top-container\"><div class=\"sk-text-repr-fallback\"><pre>RandomForestRegressor(max_depth=4, max_features=4, min_samples_leaf=10,\n",
              "                      min_samples_split=15)</pre><b>In a Jupyter environment, please rerun this cell to show the HTML representation or trust the notebook. <br />On GitHub, the HTML representation is unable to render, please try loading this page with nbviewer.org.</b></div><div class=\"sk-container\" hidden><div class=\"sk-item\"><div class=\"sk-estimator sk-toggleable\"><input class=\"sk-toggleable__control sk-hidden--visually\" id=\"sk-estimator-id-4\" type=\"checkbox\" checked><label for=\"sk-estimator-id-4\" class=\"sk-toggleable__label sk-toggleable__label-arrow\">RandomForestRegressor</label><div class=\"sk-toggleable__content\"><pre>RandomForestRegressor(max_depth=4, max_features=4, min_samples_leaf=10,\n",
              "                      min_samples_split=15)</pre></div></div></div></div></div>"
            ],
            "text/plain": [
              "RandomForestRegressor(max_depth=4, max_features=4, min_samples_leaf=10,\n",
              "                      min_samples_split=15)"
            ]
          },
          "execution_count": 10,
          "metadata": {},
          "output_type": "execute_result"
        }
      ],
      "source": [
        "# al igual que el decision tree podemos sacar cual es nuestro mejor bosque\n",
        "# En este caso,  nuestro mejor bosque es aquel que esta formado por arboles de 6 de profundidad, usa 4 variables y que tiene  un min_samples_leaf y un min_samples_split de 10. \n",
        "\n",
        "bosque = gs_rf.best_estimator_\n",
        "bosque"
      ]
    },
    {
      "cell_type": "code",
      "execution_count": 11,
      "metadata": {
        "colab": {
          "base_uri": "https://localhost:8080/",
          "height": 1000
        },
        "id": "oIz6CSaP8rbk",
        "outputId": "fa845658-0d62-4c7b-83ae-2af0cf415514"
      },
      "outputs": [],
      "source": [
        "# # dibujemos los árboles de nuestro bosque\n",
        "\n",
        "\n",
        "# for arbol in tqdm(bosque.estimators_):\n",
        "#     fig = plt.figure(figsize=(40, 20))\n",
        "#     tree.plot_tree(arbol, feature_names= x_train.columns, filled = True)\n",
        "#     plt.show()"
      ]
    },
    {
      "cell_type": "markdown",
      "metadata": {
        "id": "cTRtSVQQ89iF"
      },
      "source": [
        "Vamos a calcular sus métricas para ver como de bueno es nuestro modelo prediciendo:"
      ]
    },
    {
      "cell_type": "code",
      "execution_count": 12,
      "metadata": {
        "id": "Hi0O_MBV8_xX"
      },
      "outputs": [],
      "source": [
        "y_pred_test_rf = bosque.predict(x_test)\n",
        "y_pred_train_rf = bosque.predict(x_train)"
      ]
    },
    {
      "cell_type": "code",
      "execution_count": 13,
      "metadata": {
        "id": "c1928Aad9DMU"
      },
      "outputs": [],
      "source": [
        "def metricas(y_test, y_train, y_test_pred, y_train_pred, tipo_modelo):\n",
        "    \n",
        "    \n",
        "    resultados = {'MAE': [mean_absolute_error(y_test, y_test_pred), mean_absolute_error(y_train, y_train_pred)],\n",
        "                'MSE': [mean_squared_error(y_test, y_test_pred), mean_squared_error(y_train, y_train_pred)],\n",
        "                'RMSE': [np.sqrt(mean_squared_error(y_test, y_test_pred)), np.sqrt(mean_squared_error(y_train, y_train_pred))],\n",
        "                'R2':  [r2_score(y_test, y_test_pred), r2_score(y_train, y_train_pred)],\n",
        "                 \"set\": [\"test\", \"train\"]}\n",
        "    df = pd.DataFrame(resultados)\n",
        "    df[\"modelo\"] = tipo_modelo\n",
        "    return df"
      ]
    },
    {
      "cell_type": "code",
      "execution_count": 15,
      "metadata": {
        "colab": {
          "base_uri": "https://localhost:8080/",
          "height": 366
        },
        "id": "ZbTZzaoE9Ki9",
        "outputId": "799bd404-f635-4702-b080-8d742bf2348d"
      },
      "outputs": [
        {
          "name": "stdout",
          "output_type": "stream",
          "text": [
            "Importancia de los predictores en el modelo\n",
            "-------------------------------------------\n"
          ]
        },
        {
          "data": {
            "text/html": [
              "<div>\n",
              "<style scoped>\n",
              "    .dataframe tbody tr th:only-of-type {\n",
              "        vertical-align: middle;\n",
              "    }\n",
              "\n",
              "    .dataframe tbody tr th {\n",
              "        vertical-align: top;\n",
              "    }\n",
              "\n",
              "    .dataframe thead th {\n",
              "        text-align: right;\n",
              "    }\n",
              "</style>\n",
              "<table border=\"1\" class=\"dataframe\">\n",
              "  <thead>\n",
              "    <tr style=\"text-align: right;\">\n",
              "      <th></th>\n",
              "      <th>predictor</th>\n",
              "      <th>importancia</th>\n",
              "    </tr>\n",
              "  </thead>\n",
              "  <tbody>\n",
              "    <tr>\n",
              "      <th>1</th>\n",
              "      <td>skullw</td>\n",
              "      <td>0.262617</td>\n",
              "    </tr>\n",
              "    <tr>\n",
              "      <th>2</th>\n",
              "      <td>totlngth</td>\n",
              "      <td>0.207596</td>\n",
              "    </tr>\n",
              "    <tr>\n",
              "      <th>7</th>\n",
              "      <td>chest</td>\n",
              "      <td>0.126609</td>\n",
              "    </tr>\n",
              "    <tr>\n",
              "      <th>8</th>\n",
              "      <td>belly</td>\n",
              "      <td>0.111956</td>\n",
              "    </tr>\n",
              "    <tr>\n",
              "      <th>4</th>\n",
              "      <td>footlgth</td>\n",
              "      <td>0.102983</td>\n",
              "    </tr>\n",
              "    <tr>\n",
              "      <th>6</th>\n",
              "      <td>eye</td>\n",
              "      <td>0.066667</td>\n",
              "    </tr>\n",
              "    <tr>\n",
              "      <th>3</th>\n",
              "      <td>taill</td>\n",
              "      <td>0.035617</td>\n",
              "    </tr>\n",
              "    <tr>\n",
              "      <th>0</th>\n",
              "      <td>age</td>\n",
              "      <td>0.024152</td>\n",
              "    </tr>\n",
              "    <tr>\n",
              "      <th>5</th>\n",
              "      <td>earconch</td>\n",
              "      <td>0.021791</td>\n",
              "    </tr>\n",
              "    <tr>\n",
              "      <th>13</th>\n",
              "      <td>site_1</td>\n",
              "      <td>0.016688</td>\n",
              "    </tr>\n",
              "    <tr>\n",
              "      <th>11</th>\n",
              "      <td>sex_f</td>\n",
              "      <td>0.013114</td>\n",
              "    </tr>\n",
              "    <tr>\n",
              "      <th>12</th>\n",
              "      <td>sex_m</td>\n",
              "      <td>0.008162</td>\n",
              "    </tr>\n",
              "    <tr>\n",
              "      <th>10</th>\n",
              "      <td>x0_other</td>\n",
              "      <td>0.001243</td>\n",
              "    </tr>\n",
              "    <tr>\n",
              "      <th>19</th>\n",
              "      <td>site_7</td>\n",
              "      <td>0.000488</td>\n",
              "    </tr>\n",
              "    <tr>\n",
              "      <th>9</th>\n",
              "      <td>x0_Vic</td>\n",
              "      <td>0.000318</td>\n",
              "    </tr>\n",
              "    <tr>\n",
              "      <th>14</th>\n",
              "      <td>site_2</td>\n",
              "      <td>0.000000</td>\n",
              "    </tr>\n",
              "    <tr>\n",
              "      <th>15</th>\n",
              "      <td>site_3</td>\n",
              "      <td>0.000000</td>\n",
              "    </tr>\n",
              "    <tr>\n",
              "      <th>16</th>\n",
              "      <td>site_4</td>\n",
              "      <td>0.000000</td>\n",
              "    </tr>\n",
              "    <tr>\n",
              "      <th>17</th>\n",
              "      <td>site_5</td>\n",
              "      <td>0.000000</td>\n",
              "    </tr>\n",
              "    <tr>\n",
              "      <th>18</th>\n",
              "      <td>site_6</td>\n",
              "      <td>0.000000</td>\n",
              "    </tr>\n",
              "  </tbody>\n",
              "</table>\n",
              "</div>"
            ],
            "text/plain": [
              "   predictor  importancia\n",
              "1     skullw     0.262617\n",
              "2   totlngth     0.207596\n",
              "7      chest     0.126609\n",
              "8      belly     0.111956\n",
              "4   footlgth     0.102983\n",
              "6        eye     0.066667\n",
              "3      taill     0.035617\n",
              "0        age     0.024152\n",
              "5   earconch     0.021791\n",
              "13    site_1     0.016688\n",
              "11     sex_f     0.013114\n",
              "12     sex_m     0.008162\n",
              "10  x0_other     0.001243\n",
              "19    site_7     0.000488\n",
              "9     x0_Vic     0.000318\n",
              "14    site_2     0.000000\n",
              "15    site_3     0.000000\n",
              "16    site_4     0.000000\n",
              "17    site_5     0.000000\n",
              "18    site_6     0.000000"
            ]
          },
          "execution_count": 15,
          "metadata": {},
          "output_type": "execute_result"
        }
      ],
      "source": [
        "\n",
        "# vamos a crearnos un dataframe, igual que hicimos en la clase anterior con la importancia de cada una de las variables incluidas en el modelo\n",
        "\n",
        "importancia_predictores = pd.DataFrame(\n",
        "                            {'predictor': x_train.columns,\n",
        "                             'importancia': bosque.feature_importances_}\n",
        "                            )\n",
        "\n",
        "\n",
        "# ordenamos de mayor a menor los resultados\n",
        "importancia_predictores.sort_values(by=[\"importancia\"], ascending=False, inplace = True)\n",
        "\n",
        "# printeamos los resultados\n",
        "print(\"Importancia de los predictores en el modelo\")\n",
        "print(\"-------------------------------------------\")\n",
        "importancia_predictores"
      ]
    },
    {
      "cell_type": "code",
      "execution_count": 16,
      "metadata": {
        "colab": {
          "base_uri": "https://localhost:8080/",
          "height": 388
        },
        "id": "b9IuoIC--Dq1",
        "outputId": "fee6eb28-496f-4c82-976a-6c5be69d5675"
      },
      "outputs": [
        {
          "data": {
            "image/png": "[encoded data removed]",
            "text/plain": [
              "<Figure size 720x432 with 1 Axes>"
            ]
          },
          "metadata": {
            "needs_background": "light"
          },
          "output_type": "display_data"
        }
      ],
      "source": [
        "# por último ploteamos los resultados para verlo de una forma más amigable. \n",
        "\n",
        "plt.figure(figsize=(10,6))\n",
        "sns.barplot(x = \"importancia\", y = \"predictor\", data = importancia_predictores, palette=\"viridis\");\n",
        "plt.show()"
      ]
    },
    {
      "cell_type": "code",
      "execution_count": 17,
      "metadata": {
        "colab": {
          "base_uri": "https://localhost:8080/",
          "height": 112
        },
        "id": "-B9C1g-j9GLg",
        "outputId": "2d370cae-4b87-45a3-c85e-b6b757508918"
      },
      "outputs": [
        {
          "data": {
            "text/html": [
              "<div>\n",
              "<style scoped>\n",
              "    .dataframe tbody tr th:only-of-type {\n",
              "        vertical-align: middle;\n",
              "    }\n",
              "\n",
              "    .dataframe tbody tr th {\n",
              "        vertical-align: top;\n",
              "    }\n",
              "\n",
              "    .dataframe thead th {\n",
              "        text-align: right;\n",
              "    }\n",
              "</style>\n",
              "<table border=\"1\" class=\"dataframe\">\n",
              "  <thead>\n",
              "    <tr style=\"text-align: right;\">\n",
              "      <th></th>\n",
              "      <th>MAE</th>\n",
              "      <th>MSE</th>\n",
              "      <th>RMSE</th>\n",
              "      <th>R2</th>\n",
              "      <th>set</th>\n",
              "      <th>modelo</th>\n",
              "    </tr>\n",
              "  </thead>\n",
              "  <tbody>\n",
              "    <tr>\n",
              "      <th>0</th>\n",
              "      <td>1.624309</td>\n",
              "      <td>4.447096</td>\n",
              "      <td>2.108814</td>\n",
              "      <td>0.416166</td>\n",
              "      <td>test</td>\n",
              "      <td>Random Forest</td>\n",
              "    </tr>\n",
              "    <tr>\n",
              "      <th>1</th>\n",
              "      <td>1.715385</td>\n",
              "      <td>5.619450</td>\n",
              "      <td>2.370538</td>\n",
              "      <td>0.594873</td>\n",
              "      <td>train</td>\n",
              "      <td>Random Forest</td>\n",
              "    </tr>\n",
              "  </tbody>\n",
              "</table>\n",
              "</div>"
            ],
            "text/plain": [
              "        MAE       MSE      RMSE        R2    set         modelo\n",
              "0  1.624309  4.447096  2.108814  0.416166   test  Random Forest\n",
              "1  1.715385  5.619450  2.370538  0.594873  train  Random Forest"
            ]
          },
          "execution_count": 17,
          "metadata": {},
          "output_type": "execute_result"
        }
      ],
      "source": [
        "# sacamos las métricas para ver si hay overfitting o underfitting, para modificar la profundidad en función de estos resultados\n",
        "\n",
        "results_rf = metricas(y_test, y_train, y_pred_test_rf, y_pred_train_rf, \"Random Forest\")\n",
        "results_rf"
      ]
    },
    {
      "cell_type": "code",
      "execution_count": 18,
      "metadata": {},
      "outputs": [
        {
          "data": {
            "text/html": [
              "<div>\n",
              "<style scoped>\n",
              "    .dataframe tbody tr th:only-of-type {\n",
              "        vertical-align: middle;\n",
              "    }\n",
              "\n",
              "    .dataframe tbody tr th {\n",
              "        vertical-align: top;\n",
              "    }\n",
              "\n",
              "    .dataframe thead th {\n",
              "        text-align: right;\n",
              "    }\n",
              "</style>\n",
              "<table border=\"1\" class=\"dataframe\">\n",
              "  <thead>\n",
              "    <tr style=\"text-align: right;\">\n",
              "      <th></th>\n",
              "      <th>MAE</th>\n",
              "      <th>MSE</th>\n",
              "      <th>RMSE</th>\n",
              "      <th>R2</th>\n",
              "      <th>set</th>\n",
              "      <th>modelo</th>\n",
              "    </tr>\n",
              "  </thead>\n",
              "  <tbody>\n",
              "    <tr>\n",
              "      <th>0</th>\n",
              "      <td>1.730531</td>\n",
              "      <td>4.959695</td>\n",
              "      <td>2.227037</td>\n",
              "      <td>0.573966</td>\n",
              "      <td>test</td>\n",
              "      <td>Regresión lineal</td>\n",
              "    </tr>\n",
              "    <tr>\n",
              "      <th>1</th>\n",
              "      <td>2.002134</td>\n",
              "      <td>6.874220</td>\n",
              "      <td>2.621873</td>\n",
              "      <td>0.473920</td>\n",
              "      <td>train</td>\n",
              "      <td>Regresión lineal</td>\n",
              "    </tr>\n",
              "  </tbody>\n",
              "</table>\n",
              "</div>"
            ],
            "text/plain": [
              "        MAE       MSE      RMSE        R2    set            modelo\n",
              "0  1.730531  4.959695  2.227037  0.573966   test  Regresión lineal\n",
              "1  2.002134  6.874220  2.621873  0.473920  train  Regresión lineal"
            ]
          },
          "execution_count": 18,
          "metadata": {},
          "output_type": "execute_result"
        }
      ],
      "source": [
        "df_results_rl = pd.read_csv(\"./Datos/resultados_rl.csv\", index_col=0)\n",
        "df_results_rl"
      ]
    },
    {
      "cell_type": "code",
      "execution_count": 19,
      "metadata": {},
      "outputs": [
        {
          "data": {
            "text/html": [
              "<div>\n",
              "<style scoped>\n",
              "    .dataframe tbody tr th:only-of-type {\n",
              "        vertical-align: middle;\n",
              "    }\n",
              "\n",
              "    .dataframe tbody tr th {\n",
              "        vertical-align: top;\n",
              "    }\n",
              "\n",
              "    .dataframe thead th {\n",
              "        text-align: right;\n",
              "    }\n",
              "</style>\n",
              "<table border=\"1\" class=\"dataframe\">\n",
              "  <thead>\n",
              "    <tr style=\"text-align: right;\">\n",
              "      <th></th>\n",
              "      <th>MAE</th>\n",
              "      <th>MSE</th>\n",
              "      <th>RMSE</th>\n",
              "      <th>R2</th>\n",
              "      <th>set</th>\n",
              "      <th>modelo</th>\n",
              "    </tr>\n",
              "  </thead>\n",
              "  <tbody>\n",
              "    <tr>\n",
              "      <th>0</th>\n",
              "      <td>2.435241</td>\n",
              "      <td>9.068721</td>\n",
              "      <td>3.011432</td>\n",
              "      <td>0.221004</td>\n",
              "      <td>test</td>\n",
              "      <td>Decision tree II</td>\n",
              "    </tr>\n",
              "    <tr>\n",
              "      <th>1</th>\n",
              "      <td>2.176951</td>\n",
              "      <td>8.224393</td>\n",
              "      <td>2.867820</td>\n",
              "      <td>0.370592</td>\n",
              "      <td>train</td>\n",
              "      <td>Decision tree II</td>\n",
              "    </tr>\n",
              "  </tbody>\n",
              "</table>\n",
              "</div>"
            ],
            "text/plain": [
              "        MAE       MSE      RMSE        R2    set            modelo\n",
              "0  2.435241  9.068721  3.011432  0.221004   test  Decision tree II\n",
              "1  2.176951  8.224393  2.867820  0.370592  train  Decision tree II"
            ]
          },
          "execution_count": 19,
          "metadata": {},
          "output_type": "execute_result"
        }
      ],
      "source": [
        "df_results_dt = pd.read_csv(\"./Datos/resultados_dt.csv\", index_col=0)\n",
        "df_results_dt"
      ]
    },
    {
      "cell_type": "markdown",
      "metadata": {},
      "source": [
        "Los errores en el random forest han salido más pequeños, sin embargo, el R2 es más bajo en el test.\n",
        "\n",
        "El la regresión lineal, el R2 sale mejor, pero los errores son un poquito más altos. Al ser el modelo más sencillo e interpretable, podría llegar a compensar quedarse con la regresión lineal.\n",
        "\n",
        "El peor es el decision tree. De hecho, escoge la variable chest como principal, cuando totlength o skullw son más significativas.\n",
        "\n",
        "En cualquier caso, nuestra muestra es muy pequeña y hay mucha variación entre test y train, que podría ser debido al muestreo."
      ]
    }
  ],
  "metadata": {
    "colab": {
      "collapsed_sections": [],
      "provenance": []
    },
    "kernelspec": {
      "display_name": "Python 3.9.7 ('base')",
      "language": "python",
      "name": "python3"
    },
    "language_info": {
      "codemirror_mode": {
        "name": "ipython",
        "version": 3
      },
      "file_extension": ".py",
      "mimetype": "text/x-python",
      "name": "python",
      "nbconvert_exporter": "python",
      "pygments_lexer": "ipython3",
      "version": "3.9.7"
    },
    "vscode": {
      "interpreter": {
        "hash": "fd3399778ecca89ccfd38c8963bbc048ff3198ccc7f9219d1f9dd0c6b6412bb5"
      }
    }
  },
  "nbformat": 4,
  "nbformat_minor": 0
}
